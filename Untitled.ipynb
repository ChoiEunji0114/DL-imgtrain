{
 "cells": [
  {
   "cell_type": "code",
   "execution_count": 1,
   "metadata": {},
   "outputs": [],
   "source": [
    "# Config\n",
    "import tensorflow.keras as keras\n",
    "from tensorflow.keras.preprocessing.image import ImageDataGenerator\n",
    "from tensorflow.keras.models import Sequential\n",
    "from tensorflow.keras.layers import Activation, Dense, Flatten\n",
    "from tensorflow.keras.layers import Conv2D, MaxPooling2D, Dropout, ReLU\n",
    "import numpy as np\n",
    "import os\n",
    "import sys\n",
    "from six.moves import cPickle\n",
    "import matplotlib.pyplot as plt\n",
    "\n",
    "# hyper parameter\n",
    "batch_size = 32\n",
    "num_classes = 100\n",
    "epochs = 30\n",
    "\n",
    "# Steps_per_epoch should typically be equal to the number of unique samples of your dataset divided by the batch size.\n",
    "# 데이터 총 개수 : 40000개\n",
    "# 클래스 개수 : 100개, 클래스 별 400개 이미지\n",
    "\n",
    "steps_per_epoch = int(40000/batch_size)\n",
    "save_dir = os.path.join(os.getcwd(), 'saved_models')\n",
    "model_name = 'trained_model.h5'"
   ]
  },
  {
   "cell_type": "code",
   "execution_count": 34,
   "metadata": {},
   "outputs": [
    {
     "name": "stdout",
     "output_type": "stream",
     "text": [
      "(26800, 32, 32, 3) uint8\n",
      "(26800, 1) int64\n",
      "(13200, 32, 32, 3) uint8\n",
      "(13200, 1) int64\n"
     ]
    },
    {
     "data": {
      "image/png": "[encoded data removed]",
      "text/plain": [
       "<Figure size 432x288 with 1 Axes>"
      ]
     },
     "metadata": {
      "needs_background": "light"
     },
     "output_type": "display_data"
    }
   ],
   "source": [
    "import sklearn.model_selection as sk\n",
    "\n",
    "def load_data():\n",
    "    path = './data'\n",
    "\n",
    "    fpath = os.path.join(path, 'train_data')\n",
    "    \n",
    "    with open(fpath, 'rb') as f:\n",
    "        d = cPickle.load(f, encoding='bytes')\n",
    "        \n",
    "    X_train = d['data']\n",
    "    y_train = d['labels']\n",
    "    y_train = np.reshape(y_train, (len(y_train), 1))\n",
    "\n",
    "    return X_train, y_train\n",
    "\n",
    "x_train, y_train = load_data()\n",
    "\n",
    "# x_train : total img dataset\n",
    "# y_train : total label datset\n",
    "\n",
    "\n",
    "# test, train dataset 분류하기 \n",
    "X_train, X_test, y_train, y_test = sk.train_test_split(x_train,\n",
    "                                                    y_train,\n",
    "                                                    test_size=0.33,\n",
    "                                                    random_state=42,\n",
    "                                                    shuffle=True)\n",
    "\n",
    "# check data\n",
    "plt.imshow(X_test[0])\n",
    "# plt.imshow(X_train[0])\n",
    "\n",
    "\n",
    "# understand data\n",
    "print(X_train.shape, X_train.dtype)\n",
    "print(y_train.shape, y_train.dtype)\n",
    "print(X_test.shape, X_test.dtype)\n",
    "print(y_test.shape, y_test.dtype)"
   ]
  },
  {
   "cell_type": "code",
   "execution_count": 4,
   "metadata": {},
   "outputs": [],
   "source": [
    "# Basic preprocessing\n",
    "y_train = keras.utils.to_categorical(y_train, num_classes)\n",
    "x_train = x_train.astype('float32')\n",
    "x_train /= 255"
   ]
  },
  {
   "cell_type": "code",
   "execution_count": 5,
   "metadata": {},
   "outputs": [
    {
     "name": "stdout",
     "output_type": "stream",
     "text": [
      "Train on 40000 samples\n",
      "Epoch 1/30\n",
      "40000/40000 [==============================] - 63s 2ms/sample - loss: 3.9745 - accuracy: 0.1124\n",
      "Epoch 2/30\n",
      "40000/40000 [==============================] - 64s 2ms/sample - loss: 3.5975 - accuracy: 0.1841\n",
      "Epoch 3/30\n",
      "40000/40000 [==============================] - 63s 2ms/sample - loss: 3.4718 - accuracy: 0.2087\n",
      "Epoch 4/30\n",
      "40000/40000 [==============================] - 66s 2ms/sample - loss: 3.3907 - accuracy: 0.2262\n",
      "Epoch 5/30\n",
      "40000/40000 [==============================] - 65s 2ms/sample - loss: 3.3289 - accuracy: 0.2382\n",
      "Epoch 6/30\n",
      "40000/40000 [==============================] - 65s 2ms/sample - loss: 3.2735 - accuracy: 0.2508\n",
      "Epoch 7/30\n",
      "40000/40000 [==============================] - 63s 2ms/sample - loss: 3.2300 - accuracy: 0.2594\n",
      "Epoch 8/30\n",
      "40000/40000 [==============================] - 65s 2ms/sample - loss: 3.1855 - accuracy: 0.2678\n",
      "Epoch 9/30\n",
      "40000/40000 [==============================] - 67s 2ms/sample - loss: 3.1455 - accuracy: 0.2761\n",
      "Epoch 10/30\n",
      "40000/40000 [==============================] - 62s 2ms/sample - loss: 3.1088 - accuracy: 0.2821\n",
      "Epoch 11/30\n",
      "40000/40000 [==============================] - 61s 2ms/sample - loss: 3.0726 - accuracy: 0.2880\n",
      "Epoch 12/30\n",
      "40000/40000 [==============================] - 61s 2ms/sample - loss: 3.0386 - accuracy: 0.2964\n",
      "Epoch 13/30\n",
      "40000/40000 [==============================] - 61s 2ms/sample - loss: 3.0039 - accuracy: 0.3041\n",
      "Epoch 14/30\n",
      "40000/40000 [==============================] - 67s 2ms/sample - loss: 2.9721 - accuracy: 0.3105\n",
      "Epoch 15/30\n",
      "40000/40000 [==============================] - 68s 2ms/sample - loss: 2.9395 - accuracy: 0.3169\n",
      "Epoch 16/30\n",
      "40000/40000 [==============================] - 63s 2ms/sample - loss: 2.9111 - accuracy: 0.3223\n",
      "Epoch 17/30\n",
      "40000/40000 [==============================] - 63s 2ms/sample - loss: 2.8783 - accuracy: 0.3300\n",
      "Epoch 18/30\n",
      "40000/40000 [==============================] - 63s 2ms/sample - loss: 2.8479 - accuracy: 0.3362\n",
      "Epoch 19/30\n",
      "40000/40000 [==============================] - 62s 2ms/sample - loss: 2.8214 - accuracy: 0.3419\n",
      "Epoch 20/30\n",
      "40000/40000 [==============================] - 61s 2ms/sample - loss: 2.7935 - accuracy: 0.3455\n",
      "Epoch 21/30\n",
      "40000/40000 [==============================] - 63s 2ms/sample - loss: 2.7658 - accuracy: 0.3526\n",
      "Epoch 22/30\n",
      "40000/40000 [==============================] - 63s 2ms/sample - loss: 2.7398 - accuracy: 0.3602\n",
      "Epoch 23/30\n",
      "40000/40000 [==============================] - 65s 2ms/sample - loss: 2.7130 - accuracy: 0.3640\n",
      "Epoch 24/30\n",
      "40000/40000 [==============================] - 64s 2ms/sample - loss: 2.6883 - accuracy: 0.3686\n",
      "Epoch 25/30\n",
      "40000/40000 [==============================] - 65s 2ms/sample - loss: 2.6626 - accuracy: 0.3753\n",
      "Epoch 26/30\n",
      "40000/40000 [==============================] - 64s 2ms/sample - loss: 2.6386 - accuracy: 0.3803\n",
      "Epoch 27/30\n",
      "40000/40000 [==============================] - 66s 2ms/sample - loss: 2.6148 - accuracy: 0.3845\n",
      "Epoch 28/30\n",
      "40000/40000 [==============================] - 65s 2ms/sample - loss: 2.5908 - accuracy: 0.3888\n",
      "Epoch 29/30\n",
      "40000/40000 [==============================] - 67s 2ms/sample - loss: 2.5679 - accuracy: 0.3954\n",
      "Epoch 30/30\n",
      "40000/40000 [==============================] - 66s 2ms/sample - loss: 2.5449 - accuracy: 0.3992\n",
      "Saved trained model at /Users/eunji/Downloads/GIT/DL-imgtrain/saved_models/trained_model.h5 \n"
     ]
    }
   ],
   "source": [
    "model = Sequential()\n",
    "model.add(Conv2D(50, (3, 3), padding='same',\n",
    "                 input_shape=x_train.shape[1:]))\n",
    "model.add(Flatten())\n",
    "model.add(Dense(100))\n",
    "model.add(Dense(100, activation='softmax'))\n",
    "\n",
    "opt = keras.optimizers.RMSprop(lr=0.0001, decay=1e-6)\n",
    "\n",
    "model.compile(loss='categorical_crossentropy',\n",
    "              optimizer=opt,\n",
    "              metrics=['accuracy'])\n",
    "\n",
    "# Train\n",
    "model.fit(x_train, y_train, \n",
    "            batch_size=batch_size,\n",
    "            epochs=epochs,\n",
    "            steps_per_epoch=steps_per_epoch,\n",
    "            workers=4)\n",
    "\n",
    "# Save model and weights\n",
    "if not os.path.isdir(save_dir):\n",
    "    os.makedirs(save_dir)\n",
    "model_path = os.path.join(save_dir, model_name)\n",
    "model.save(model_path)\n",
    "print('Saved trained model at %s ' % model_path)"
   ]
  },
  {
   "cell_type": "code",
   "execution_count": null,
   "metadata": {},
   "outputs": [],
   "source": []
  },
  {
   "cell_type": "code",
   "execution_count": null,
   "metadata": {},
   "outputs": [],
   "source": [
    "# 32x32의 크기를 가지는 RGB(3채널) 이미지\n",
    "# 데이터의 총 개수는 40000개\n",
    "# 클래스의 개수는 100개\n",
    "# 각 클래스별 400장의 이미지\n",
    "# train, test, validation set은 구분되어 있지 않습니다. 필요시 직접 구현하여 사용"
   ]
  }
 ],
 "metadata": {
  "kernelspec": {
   "display_name": "Python 3",
   "language": "python",
   "name": "python3"
  },
  "language_info": {
   "codemirror_mode": {
    "name": "ipython",
    "version": 3
   },
   "file_extension": ".py",
   "mimetype": "text/x-python",
   "name": "python",
   "nbconvert_exporter": "python",
   "pygments_lexer": "ipython3",
   "version": "3.7.6"
  }
 },
 "nbformat": 4,
 "nbformat_minor": 4
}
